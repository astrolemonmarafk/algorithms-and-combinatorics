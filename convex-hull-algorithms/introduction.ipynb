{
 "cells": [
  {
   "cell_type": "markdown",
   "id": "72c624b9",
   "metadata": {},
   "source": [
    "# Important concepts before start.\n",
    "<p>Ok, I may admit these maybe are not gonna be that important, but I think its interesting to know more about these concepts and ask ourselves, how does this works? why does this works?</p>\n",
    "<p>As Im doing this for fun and love to maths, Im not gonna be asking myself: What applications does this have?. If it happens to be any interesting applications (or not), this information for me does not increase or decrease the value of the knowledge.\n",
    "</p>\n",
    "\n",
    "<p>Also, Im assuming you already know -even just a little- about Euclidean/non-euclidean spaces and convexity, so Im just refreshing your memory. If you dont know, dont worry, It´ll take you no more than 5 minuts of a research.</p>"
   ]
  },
  {
   "cell_type": "markdown",
   "id": "a9b169da",
   "metadata": {},
   "source": [
    "# Convexity\n",
    "## Euclidean Spaces\n",
    "<p>\n",
    "A set of points in a Euclidean space is defined to be convex if it contains the line segments connecting each pair of its points.\n",
    "</p>\n",
    "\n",
    "### Some Properties\n",
    "\n",
    "1. **Intersection Property**:\n",
    "   The intersection of any collection of convex sets is also convex.\n",
    "\n",
    "2. **Affine Sets are Convex**:\n",
    "   Every affine set (i.e. a translated subspace) is convex, because linear combinations where the coefficients sum to 1 are allowed in both definitions.\n",
    "\n",
    "3. **Convexity is Preserved by Linear Maps**:\n",
    "   If $T:\\mathbb{R}^n \\rightarrow \\mathbb{R}^m$ is a linear transformation and $C \\subseteq \\mathbb{R}^n$ is convex, then $T(C) \\subseteq \\mathbb{R}^m$ is also convex.\n",
    "\n",
    "4. **Convex Functions Have Convex Epigraphs**:\n",
    "   A function $f: \\mathbb{R}^n \\rightarrow \\mathbb{R}$ is convex if and only if its epigraph (the set $\\{(x, t) \\in \\mathbb{R}^{n+1} : f(x) \\leq t\\}$) is a convex set.\n",
    "\n",
    "\n",
    "## Non-euclidean spaces (introduction)\n",
    "\n",
    "When we ask ourselves \"What happens with convexity if we move to non-euclidean spaces?\" the answer its gonna depend of the curvature of the space, but the short answer its that we still having a \"Convexity\" concept, but adapting it to the surface we will talk about $\\rightarrow$ its the shortest path between two points (and not always its gonna be a \"straight line\")\n",
    "\n",
    "### Riemannian Spaces\n",
    "\n",
    "* A set $C$ in a Riemannian manifold is **geodesically convex** if for any two points $x, y \\in C$, **the geodesic** connecting them is entirely contained in $C$.\n",
    "  That is:\n",
    "\n",
    "  $$\n",
    "  \\forall x, y \\in C,\\ \\text{the geodesic segment from } x \\text{ to } y \\subseteq C\n",
    "  $$\n",
    "\n",
    "\n",
    "* **Geodesics may not be unique**: Unlike straight lines in $\\mathbb{R}^n$, some spaces (like spheres) may have multiple geodesics between two points. Convexity may require *all* geodesics between any two points to be contained in the set.\n",
    "\n",
    "* **No linear structure**: You can’t define convex combinations $\\lambda x + (1-\\lambda)y$ unless you have a vector space. So convexity must be defined through paths (geodesics), not algebraic operations.\n"
   ]
  },
  {
   "cell_type": "markdown",
   "id": "42267731",
   "metadata": {},
   "source": [
    "# What is a Convex Hull?\n",
    "\n",
    "Imagine you have a bunch of dots (points) on a sheet of paper. The convex hull is like stretching a rubber band around all those dots — the band will naturally wrap around the outermost points, forming the smallest possible shape that contains all the dots and is convex.\n",
    "\n",
    "![Convex Hull diagram](images/ch1.png)"
   ]
  },
  {
   "cell_type": "code",
   "execution_count": null,
   "id": "4db35ec1",
   "metadata": {},
   "outputs": [],
   "source": []
  }
 ],
 "metadata": {
  "kernelspec": {
   "display_name": "base",
   "language": "python",
   "name": "python3"
  },
  "language_info": {
   "name": "python",
   "version": "3.13.2"
  }
 },
 "nbformat": 4,
 "nbformat_minor": 5
}
